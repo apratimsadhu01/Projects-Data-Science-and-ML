{
 "metadata": {
  "language_info": {
   "codemirror_mode": {
    "name": "ipython",
    "version": 3
   },
   "file_extension": ".py",
   "mimetype": "text/x-python",
   "name": "python",
   "nbconvert_exporter": "python",
   "pygments_lexer": "ipython3",
   "version": "3.8.3-final"
  },
  "orig_nbformat": 2,
  "kernelspec": {
   "name": "python3",
   "display_name": "Python 3.8.3 64-bit (conda)",
   "metadata": {
    "interpreter": {
     "hash": "f17b7315a0c73cbd567ef140791d9196e38f13a00bbaa5858c1ff3deb3cfdb78"
    }
   }
  }
 },
 "nbformat": 4,
 "nbformat_minor": 2,
 "cells": [
  {
   "cell_type": "code",
   "execution_count": 1,
   "metadata": {},
   "outputs": [
    {
     "output_type": "stream",
     "name": "stdout",
     "text": [
      "2.3.0\n"
     ]
    }
   ],
   "source": [
    "import tensorflow as tf\n",
    "print(tf.__version__)"
   ]
  },
  {
   "cell_type": "code",
   "execution_count": 4,
   "metadata": {},
   "outputs": [],
   "source": [
    "import numpy as np\n",
    "import matplotlib.pyplot as plt\n",
    "import pandas as pd\n",
    "\n",
    "data = pd.read_csv('G:/research papers/breast cancer prediction/Wisconsin Diagnosis Breast Cancer(WDBC).csv')"
   ]
  },
  {
   "cell_type": "code",
   "execution_count": 5,
   "metadata": {},
   "outputs": [
    {
     "output_type": "execute_result",
     "data": {
      "text/plain": [
       "         id diagnosis  radius_mean  texture_mean  perimeter_mean  area_mean  \\\n",
       "0    842302         M        17.99         10.38          122.80     1001.0   \n",
       "1    842517         M        20.57         17.77          132.90     1326.0   \n",
       "2  84300903         M        19.69         21.25          130.00     1203.0   \n",
       "3  84348301         M        11.42         20.38           77.58      386.1   \n",
       "4  84358402         M        20.29         14.34          135.10     1297.0   \n",
       "\n",
       "   smoothness_mean  compactness_mean  concavity_mean  concave points_mean  \\\n",
       "0          0.11840           0.27760          0.3001              0.14710   \n",
       "1          0.08474           0.07864          0.0869              0.07017   \n",
       "2          0.10960           0.15990          0.1974              0.12790   \n",
       "3          0.14250           0.28390          0.2414              0.10520   \n",
       "4          0.10030           0.13280          0.1980              0.10430   \n",
       "\n",
       "   ...  texture_worst  perimeter_worst  area_worst  smoothness_worst  \\\n",
       "0  ...          17.33           184.60      2019.0            0.1622   \n",
       "1  ...          23.41           158.80      1956.0            0.1238   \n",
       "2  ...          25.53           152.50      1709.0            0.1444   \n",
       "3  ...          26.50            98.87       567.7            0.2098   \n",
       "4  ...          16.67           152.20      1575.0            0.1374   \n",
       "\n",
       "   compactness_worst  concavity_worst  concave points_worst  symmetry_worst  \\\n",
       "0             0.6656           0.7119                0.2654          0.4601   \n",
       "1             0.1866           0.2416                0.1860          0.2750   \n",
       "2             0.4245           0.4504                0.2430          0.3613   \n",
       "3             0.8663           0.6869                0.2575          0.6638   \n",
       "4             0.2050           0.4000                0.1625          0.2364   \n",
       "\n",
       "   fractal_dimension_worst  Unnamed: 32  \n",
       "0                  0.11890          NaN  \n",
       "1                  0.08902          NaN  \n",
       "2                  0.08758          NaN  \n",
       "3                  0.17300          NaN  \n",
       "4                  0.07678          NaN  \n",
       "\n",
       "[5 rows x 33 columns]"
      ],
      "text/html": "<div>\n<style scoped>\n    .dataframe tbody tr th:only-of-type {\n        vertical-align: middle;\n    }\n\n    .dataframe tbody tr th {\n        vertical-align: top;\n    }\n\n    .dataframe thead th {\n        text-align: right;\n    }\n</style>\n<table border=\"1\" class=\"dataframe\">\n  <thead>\n    <tr style=\"text-align: right;\">\n      <th></th>\n      <th>id</th>\n      <th>diagnosis</th>\n      <th>radius_mean</th>\n      <th>texture_mean</th>\n      <th>perimeter_mean</th>\n      <th>area_mean</th>\n      <th>smoothness_mean</th>\n      <th>compactness_mean</th>\n      <th>concavity_mean</th>\n      <th>concave points_mean</th>\n      <th>...</th>\n      <th>texture_worst</th>\n      <th>perimeter_worst</th>\n      <th>area_worst</th>\n      <th>smoothness_worst</th>\n      <th>compactness_worst</th>\n      <th>concavity_worst</th>\n      <th>concave points_worst</th>\n      <th>symmetry_worst</th>\n      <th>fractal_dimension_worst</th>\n      <th>Unnamed: 32</th>\n    </tr>\n  </thead>\n  <tbody>\n    <tr>\n      <th>0</th>\n      <td>842302</td>\n      <td>M</td>\n      <td>17.99</td>\n      <td>10.38</td>\n      <td>122.80</td>\n      <td>1001.0</td>\n      <td>0.11840</td>\n      <td>0.27760</td>\n      <td>0.3001</td>\n      <td>0.14710</td>\n      <td>...</td>\n      <td>17.33</td>\n      <td>184.60</td>\n      <td>2019.0</td>\n      <td>0.1622</td>\n      <td>0.6656</td>\n      <td>0.7119</td>\n      <td>0.2654</td>\n      <td>0.4601</td>\n      <td>0.11890</td>\n      <td>NaN</td>\n    </tr>\n    <tr>\n      <th>1</th>\n      <td>842517</td>\n      <td>M</td>\n      <td>20.57</td>\n      <td>17.77</td>\n      <td>132.90</td>\n      <td>1326.0</td>\n      <td>0.08474</td>\n      <td>0.07864</td>\n      <td>0.0869</td>\n      <td>0.07017</td>\n      <td>...</td>\n      <td>23.41</td>\n      <td>158.80</td>\n      <td>1956.0</td>\n      <td>0.1238</td>\n      <td>0.1866</td>\n      <td>0.2416</td>\n      <td>0.1860</td>\n      <td>0.2750</td>\n      <td>0.08902</td>\n      <td>NaN</td>\n    </tr>\n    <tr>\n      <th>2</th>\n      <td>84300903</td>\n      <td>M</td>\n      <td>19.69</td>\n      <td>21.25</td>\n      <td>130.00</td>\n      <td>1203.0</td>\n      <td>0.10960</td>\n      <td>0.15990</td>\n      <td>0.1974</td>\n      <td>0.12790</td>\n      <td>...</td>\n      <td>25.53</td>\n      <td>152.50</td>\n      <td>1709.0</td>\n      <td>0.1444</td>\n      <td>0.4245</td>\n      <td>0.4504</td>\n      <td>0.2430</td>\n      <td>0.3613</td>\n      <td>0.08758</td>\n      <td>NaN</td>\n    </tr>\n    <tr>\n      <th>3</th>\n      <td>84348301</td>\n      <td>M</td>\n      <td>11.42</td>\n      <td>20.38</td>\n      <td>77.58</td>\n      <td>386.1</td>\n      <td>0.14250</td>\n      <td>0.28390</td>\n      <td>0.2414</td>\n      <td>0.10520</td>\n      <td>...</td>\n      <td>26.50</td>\n      <td>98.87</td>\n      <td>567.7</td>\n      <td>0.2098</td>\n      <td>0.8663</td>\n      <td>0.6869</td>\n      <td>0.2575</td>\n      <td>0.6638</td>\n      <td>0.17300</td>\n      <td>NaN</td>\n    </tr>\n    <tr>\n      <th>4</th>\n      <td>84358402</td>\n      <td>M</td>\n      <td>20.29</td>\n      <td>14.34</td>\n      <td>135.10</td>\n      <td>1297.0</td>\n      <td>0.10030</td>\n      <td>0.13280</td>\n      <td>0.1980</td>\n      <td>0.10430</td>\n      <td>...</td>\n      <td>16.67</td>\n      <td>152.20</td>\n      <td>1575.0</td>\n      <td>0.1374</td>\n      <td>0.2050</td>\n      <td>0.4000</td>\n      <td>0.1625</td>\n      <td>0.2364</td>\n      <td>0.07678</td>\n      <td>NaN</td>\n    </tr>\n  </tbody>\n</table>\n<p>5 rows × 33 columns</p>\n</div>"
     },
     "metadata": {},
     "execution_count": 5
    }
   ],
   "source": [
    "data.head()"
   ]
  },
  {
   "cell_type": "code",
   "execution_count": 6,
   "metadata": {},
   "outputs": [],
   "source": [
    "X = dataset.iloc[:,2:32] # [all rows, col from index 2 to the last one excluding 'Unnamed: 32']\n",
    "y = dataset.iloc[:,1] # [all rows, col one only which contains the classes of cancer]"
   ]
  },
  {
   "cell_type": "code",
   "execution_count": 7,
   "metadata": {},
   "outputs": [
    {
     "output_type": "stream",
     "name": "stdout",
     "text": [
      "Before encoding: \n100    M\n101    B\n102    B\n103    B\n104    B\n105    M\n106    B\n107    B\n108    M\n109    B\nName: diagnosis, dtype: object\n\nAfter encoding: \n[1 0 0 0 0 1 0 0 1 0]\n"
     ]
    }
   ],
   "source": [
    "from sklearn.preprocessing import LabelEncoder\n",
    "\n",
    "print(\"Before encoding: \")\n",
    "print(y[100:110])\n",
    "\n",
    "labelencoder_Y = LabelEncoder()\n",
    "y = labelencoder_Y.fit_transform(y)\n",
    "\n",
    "print(\"\\nAfter encoding: \")\n",
    "print(y[100:110])"
   ]
  },
  {
   "cell_type": "code",
   "execution_count": 8,
   "metadata": {},
   "outputs": [],
   "source": [
    "from sklearn.model_selection import train_test_split\n",
    "\n",
    "X_train, X_test, y_train, y_test = train_test_split(X, y, test_size = 0.2, random_state = 0)"
   ]
  },
  {
   "cell_type": "code",
   "execution_count": 10,
   "metadata": {},
   "outputs": [],
   "source": [
    "from sklearn.preprocessing import StandardScaler\n",
    "\n",
    "sc = StandardScaler()\n",
    "X_train = sc.fit_transform(X_train)\n",
    "X_test = sc.transform(X_test)"
   ]
  },
  {
   "cell_type": "code",
   "execution_count": 11,
   "metadata": {},
   "outputs": [],
   "source": [
    "# from keras.wrappers.scikit_learn import KerasClassifier\n",
    "# from sklearn.model_selection import GridSearchCV\n",
    "# from keras.models import Sequential\n",
    "# from keras.layers import Dense\n",
    "\n",
    "# def build_classifier(optimizer):\n",
    "#     classifier = Sequential()\n",
    "#     classifier.add(Dense(units = 16, kernel_initializer = 'uniform', activation = 'relu', input_dim = 30))\n",
    "#     classifier.add(Dense(units = 8, kernel_initializer = 'uniform', activation = 'relu'))\n",
    "#     classifier.add(Dense(units = 6, kernel_initializer = 'uniform', activation = 'relu'))\n",
    "#     classifier.add(Dense(units = 1, kernel_initializer = 'uniform', activation = 'sigmoid'))\n",
    "#     classifier.compile(optimizer = optimizer, loss = 'binary_crossentropy', metrics = ['accuracy'])\n",
    "#     return classifier\n",
    "# classifier = KerasClassifier(build_fn = build_classifier)\n",
    "# parameters = {'batch_size': [1, 5],\n",
    "#               'epochs': [100, 120],\n",
    "#               'optimizer': ['adam', 'rmsprop']}\n",
    "# grid_search = GridSearchCV(estimator = classifier,\n",
    "#                            param_grid = parameters,\n",
    "#                            scoring = 'accuracy',\n",
    "#                            cv = 10)\n",
    "# grid_search = grid_search.fit(X_train, y_train)\n"
   ]
  },
  {
   "cell_type": "code",
   "execution_count": 15,
   "metadata": {},
   "outputs": [],
   "source": [
    "from tensorflow.keras.models import Sequential\n",
    "from tensorflow.keras.layers import Dense\n",
    "\n",
    "model = Sequential() # Initialising the ANN\n",
    "\n",
    "model.add(Dense(units = 16, kernel_initializer = 'uniform', activation = 'relu', input_dim = 30))\n",
    "model.add(Dense(units = 8, kernel_initializer = 'uniform', activation = 'relu'))\n",
    "model.add(Dense(units = 6, kernel_initializer = 'uniform', activation = 'relu'))\n",
    "model.add(Dense(units = 1, kernel_initializer = 'uniform', activation = 'sigmoid'))"
   ]
  },
  {
   "source": [
    "model.summary()"
   ],
   "cell_type": "code",
   "metadata": {},
   "execution_count": 26,
   "outputs": [
    {
     "output_type": "stream",
     "name": "stdout",
     "text": [
      "Model: \"sequential_1\"\n_________________________________________________________________\nLayer (type)                 Output Shape              Param #   \n=================================================================\ndense_4 (Dense)              (None, 16)                496       \n_________________________________________________________________\ndense_5 (Dense)              (None, 8)                 136       \n_________________________________________________________________\ndense_6 (Dense)              (None, 6)                 54        \n_________________________________________________________________\ndense_7 (Dense)              (None, 1)                 7         \n=================================================================\nTotal params: 693\nTrainable params: 693\nNon-trainable params: 0\n_________________________________________________________________\n"
     ]
    }
   ]
  },
  {
   "cell_type": "code",
   "execution_count": 16,
   "metadata": {},
   "outputs": [],
   "source": [
    "model.compile(optimizer = 'rmsprop', loss = 'binary_crossentropy', metrics = ['accuracy'])"
   ]
  },
  {
   "cell_type": "code",
   "execution_count": 17,
   "metadata": {},
   "outputs": [
    {
     "output_type": "stream",
     "name": "stdout",
     "text": [
      "Epoch 1/100\n",
      "455/455 [==============================] - 0s 1ms/step - loss: 0.5169 - accuracy: 0.6901\n",
      "Epoch 2/100\n",
      "455/455 [==============================] - 0s 814us/step - loss: 0.2304 - accuracy: 0.9516\n",
      "Epoch 3/100\n",
      "455/455 [==============================] - 0s 794us/step - loss: 0.1298 - accuracy: 0.9648\n",
      "Epoch 4/100\n",
      "455/455 [==============================] - 0s 810us/step - loss: 0.0971 - accuracy: 0.9758\n",
      "Epoch 5/100\n",
      "455/455 [==============================] - 0s 806us/step - loss: 0.0990 - accuracy: 0.9802\n",
      "Epoch 6/100\n",
      "455/455 [==============================] - 0s 839us/step - loss: 0.0962 - accuracy: 0.9824\n",
      "Epoch 7/100\n",
      "455/455 [==============================] - 0s 807us/step - loss: 0.0964 - accuracy: 0.9824\n",
      "Epoch 8/100\n",
      "455/455 [==============================] - 0s 911us/step - loss: 0.0972 - accuracy: 0.9824\n",
      "Epoch 9/100\n",
      "455/455 [==============================] - 0s 803us/step - loss: 0.0971 - accuracy: 0.9824\n",
      "Epoch 10/100\n",
      "455/455 [==============================] - 0s 794us/step - loss: 0.1026 - accuracy: 0.9868\n",
      "Epoch 11/100\n",
      "455/455 [==============================] - 0s 762us/step - loss: 0.0986 - accuracy: 0.9868\n",
      "Epoch 12/100\n",
      "455/455 [==============================] - 0s 795us/step - loss: 0.0985 - accuracy: 0.9868\n",
      "Epoch 13/100\n",
      "455/455 [==============================] - 0s 783us/step - loss: 0.1009 - accuracy: 0.9846\n",
      "Epoch 14/100\n",
      "455/455 [==============================] - 0s 773us/step - loss: 0.1009 - accuracy: 0.9868\n",
      "Epoch 15/100\n",
      "455/455 [==============================] - 0s 921us/step - loss: 0.1012 - accuracy: 0.9868\n",
      "Epoch 16/100\n",
      "455/455 [==============================] - 0s 864us/step - loss: 0.0965 - accuracy: 0.9890\n",
      "Epoch 17/100\n",
      "455/455 [==============================] - 0s 934us/step - loss: 0.0899 - accuracy: 0.9890\n",
      "Epoch 18/100\n",
      "455/455 [==============================] - 0s 870us/step - loss: 0.0875 - accuracy: 0.9890\n",
      "Epoch 19/100\n",
      "455/455 [==============================] - 0s 858us/step - loss: 0.0875 - accuracy: 0.9890\n",
      "Epoch 20/100\n",
      "455/455 [==============================] - 0s 878us/step - loss: 0.0778 - accuracy: 0.9868\n",
      "Epoch 21/100\n",
      "455/455 [==============================] - 0s 852us/step - loss: 0.0882 - accuracy: 0.9868\n",
      "Epoch 22/100\n",
      "455/455 [==============================] - 0s 875us/step - loss: 0.0797 - accuracy: 0.9868\n",
      "Epoch 23/100\n",
      "455/455 [==============================] - 0s 857us/step - loss: 0.0795 - accuracy: 0.9890\n",
      "Epoch 24/100\n",
      "455/455 [==============================] - 0s 821us/step - loss: 0.0747 - accuracy: 0.9890\n",
      "Epoch 25/100\n",
      "455/455 [==============================] - 0s 878us/step - loss: 0.0684 - accuracy: 0.9912\n",
      "Epoch 26/100\n",
      "455/455 [==============================] - 0s 816us/step - loss: 0.0686 - accuracy: 0.9890\n",
      "Epoch 27/100\n",
      "455/455 [==============================] - 0s 825us/step - loss: 0.0634 - accuracy: 0.9912\n",
      "Epoch 28/100\n",
      "455/455 [==============================] - 0s 821us/step - loss: 0.0711 - accuracy: 0.9912\n",
      "Epoch 29/100\n",
      "455/455 [==============================] - 0s 888us/step - loss: 0.0731 - accuracy: 0.9912\n",
      "Epoch 30/100\n",
      "455/455 [==============================] - 0s 811us/step - loss: 0.0697 - accuracy: 0.9912\n",
      "Epoch 31/100\n",
      "455/455 [==============================] - 0s 914us/step - loss: 0.0620 - accuracy: 0.9912\n",
      "Epoch 32/100\n",
      "455/455 [==============================] - 0s 902us/step - loss: 0.0623 - accuracy: 0.9912\n",
      "Epoch 33/100\n",
      "455/455 [==============================] - 0s 871us/step - loss: 0.0599 - accuracy: 0.9890\n",
      "Epoch 34/100\n",
      "455/455 [==============================] - 0s 823us/step - loss: 0.0695 - accuracy: 0.9912\n",
      "Epoch 35/100\n",
      "455/455 [==============================] - 0s 848us/step - loss: 0.0641 - accuracy: 0.9912\n",
      "Epoch 36/100\n",
      "455/455 [==============================] - 0s 847us/step - loss: 0.0646 - accuracy: 0.9912\n",
      "Epoch 37/100\n",
      "455/455 [==============================] - 0s 835us/step - loss: 0.0694 - accuracy: 0.9890\n",
      "Epoch 38/100\n",
      "455/455 [==============================] - 0s 860us/step - loss: 0.0605 - accuracy: 0.9912\n",
      "Epoch 39/100\n",
      "455/455 [==============================] - 0s 813us/step - loss: 0.0599 - accuracy: 0.9912\n",
      "Epoch 40/100\n",
      "455/455 [==============================] - 0s 885us/step - loss: 0.0637 - accuracy: 0.9912\n",
      "Epoch 41/100\n",
      "455/455 [==============================] - 0s 864us/step - loss: 0.0630 - accuracy: 0.9912\n",
      "Epoch 42/100\n",
      "455/455 [==============================] - 0s 862us/step - loss: 0.0742 - accuracy: 0.9890\n",
      "Epoch 43/100\n",
      "455/455 [==============================] - 0s 859us/step - loss: 0.0673 - accuracy: 0.9912\n",
      "Epoch 44/100\n",
      "455/455 [==============================] - 0s 810us/step - loss: 0.0670 - accuracy: 0.9912\n",
      "Epoch 45/100\n",
      "455/455 [==============================] - 0s 843us/step - loss: 0.0686 - accuracy: 0.9890\n",
      "Epoch 46/100\n",
      "455/455 [==============================] - 0s 888us/step - loss: 0.0615 - accuracy: 0.9912\n",
      "Epoch 47/100\n",
      "455/455 [==============================] - 0s 873us/step - loss: 0.0557 - accuracy: 0.9912\n",
      "Epoch 48/100\n",
      "455/455 [==============================] - 0s 771us/step - loss: 0.0627 - accuracy: 0.9890\n",
      "Epoch 49/100\n",
      "455/455 [==============================] - 0s 813us/step - loss: 0.0803 - accuracy: 0.9912\n",
      "Epoch 50/100\n",
      "455/455 [==============================] - 0s 830us/step - loss: 0.0719 - accuracy: 0.9912\n",
      "Epoch 51/100\n",
      "455/455 [==============================] - 0s 892us/step - loss: 0.0680 - accuracy: 0.9912\n",
      "Epoch 52/100\n",
      "455/455 [==============================] - 0s 792us/step - loss: 0.0828 - accuracy: 0.9890\n",
      "Epoch 53/100\n",
      "455/455 [==============================] - 0s 827us/step - loss: 0.0708 - accuracy: 0.9912\n",
      "Epoch 54/100\n",
      "455/455 [==============================] - 0s 864us/step - loss: 0.0597 - accuracy: 0.9912\n",
      "Epoch 55/100\n",
      "455/455 [==============================] - 0s 830us/step - loss: 0.0618 - accuracy: 0.9890\n",
      "Epoch 56/100\n",
      "455/455 [==============================] - 0s 913us/step - loss: 0.0555 - accuracy: 0.9912\n",
      "Epoch 57/100\n",
      "455/455 [==============================] - 0s 860us/step - loss: 0.0750 - accuracy: 0.9890\n",
      "Epoch 58/100\n",
      "455/455 [==============================] - 0s 856us/step - loss: 0.0611 - accuracy: 0.9890\n",
      "Epoch 59/100\n",
      "455/455 [==============================] - 0s 828us/step - loss: 0.0695 - accuracy: 0.9890\n",
      "Epoch 60/100\n",
      "455/455 [==============================] - 0s 823us/step - loss: 0.0663 - accuracy: 0.9890\n",
      "Epoch 61/100\n",
      "455/455 [==============================] - 0s 820us/step - loss: 0.0566 - accuracy: 0.9912\n",
      "Epoch 62/100\n",
      "455/455 [==============================] - 0s 928us/step - loss: 0.0740 - accuracy: 0.9890\n",
      "Epoch 63/100\n",
      "455/455 [==============================] - 0s 784us/step - loss: 0.0597 - accuracy: 0.9890\n",
      "Epoch 64/100\n",
      "455/455 [==============================] - 0s 809us/step - loss: 0.0591 - accuracy: 0.9912\n",
      "Epoch 65/100\n",
      "455/455 [==============================] - 0s 784us/step - loss: 0.0631 - accuracy: 0.9912\n",
      "Epoch 66/100\n",
      "455/455 [==============================] - 0s 810us/step - loss: 0.0619 - accuracy: 0.9890\n",
      "Epoch 67/100\n",
      "455/455 [==============================] - 0s 854us/step - loss: 0.0569 - accuracy: 0.9912\n",
      "Epoch 68/100\n",
      "455/455 [==============================] - 0s 929us/step - loss: 0.0586 - accuracy: 0.9912\n",
      "Epoch 69/100\n",
      "455/455 [==============================] - 0s 890us/step - loss: 0.0755 - accuracy: 0.9890\n",
      "Epoch 70/100\n",
      "455/455 [==============================] - 0s 793us/step - loss: 0.0576 - accuracy: 0.9912\n",
      "Epoch 71/100\n",
      "455/455 [==============================] - 0s 952us/step - loss: 0.0736 - accuracy: 0.9890\n",
      "Epoch 72/100\n",
      "455/455 [==============================] - 0s 850us/step - loss: 0.0626 - accuracy: 0.9890\n",
      "Epoch 73/100\n",
      "455/455 [==============================] - 0s 908us/step - loss: 0.0583 - accuracy: 0.9890\n",
      "Epoch 74/100\n",
      "455/455 [==============================] - 0s 903us/step - loss: 0.0537 - accuracy: 0.9890\n",
      "Epoch 75/100\n",
      "455/455 [==============================] - 0s 878us/step - loss: 0.0548 - accuracy: 0.9890\n",
      "Epoch 76/100\n",
      "455/455 [==============================] - 0s 799us/step - loss: 0.0531 - accuracy: 0.9912\n",
      "Epoch 77/100\n",
      "455/455 [==============================] - 0s 832us/step - loss: 0.0625 - accuracy: 0.9890\n",
      "Epoch 78/100\n",
      "455/455 [==============================] - 0s 870us/step - loss: 0.0725 - accuracy: 0.9890\n",
      "Epoch 79/100\n",
      "455/455 [==============================] - 0s 830us/step - loss: 0.0627 - accuracy: 0.9890\n",
      "Epoch 80/100\n",
      "455/455 [==============================] - 0s 860us/step - loss: 0.0638 - accuracy: 0.9890\n",
      "Epoch 81/100\n",
      "455/455 [==============================] - 0s 806us/step - loss: 0.0558 - accuracy: 0.9890\n",
      "Epoch 82/100\n",
      "455/455 [==============================] - 0s 867us/step - loss: 0.0588 - accuracy: 0.9890\n",
      "Epoch 83/100\n",
      "455/455 [==============================] - 0s 851us/step - loss: 0.0840 - accuracy: 0.9890\n",
      "Epoch 84/100\n",
      "455/455 [==============================] - 0s 874us/step - loss: 0.0702 - accuracy: 0.9890\n",
      "Epoch 85/100\n",
      "455/455 [==============================] - 0s 810us/step - loss: 0.0580 - accuracy: 0.9890\n",
      "Epoch 86/100\n",
      "455/455 [==============================] - 0s 804us/step - loss: 0.0561 - accuracy: 0.9912\n",
      "Epoch 87/100\n",
      "455/455 [==============================] - 0s 888us/step - loss: 0.0764 - accuracy: 0.9890\n",
      "Epoch 88/100\n",
      "455/455 [==============================] - 0s 830us/step - loss: 0.0599 - accuracy: 0.9890\n",
      "Epoch 89/100\n",
      "455/455 [==============================] - 0s 861us/step - loss: 0.0661 - accuracy: 0.9890\n",
      "Epoch 90/100\n",
      "455/455 [==============================] - 0s 840us/step - loss: 0.0592 - accuracy: 0.9890\n",
      "Epoch 91/100\n",
      "455/455 [==============================] - 0s 850us/step - loss: 0.0539 - accuracy: 0.9912\n",
      "Epoch 92/100\n",
      "455/455 [==============================] - 0s 841us/step - loss: 0.0511 - accuracy: 0.9890\n",
      "Epoch 93/100\n",
      "455/455 [==============================] - 0s 779us/step - loss: 0.0525 - accuracy: 0.9912\n",
      "Epoch 94/100\n",
      "455/455 [==============================] - 0s 787us/step - loss: 0.0486 - accuracy: 0.9912\n",
      "Epoch 95/100\n",
      "455/455 [==============================] - 0s 832us/step - loss: 0.0600 - accuracy: 0.9890\n",
      "Epoch 96/100\n",
      "455/455 [==============================] - 0s 803us/step - loss: 0.0544 - accuracy: 0.9912\n",
      "Epoch 97/100\n",
      "455/455 [==============================] - 0s 859us/step - loss: 0.0653 - accuracy: 0.9890\n",
      "Epoch 98/100\n",
      "455/455 [==============================] - 0s 804us/step - loss: 0.0564 - accuracy: 0.9890\n",
      "Epoch 99/100\n",
      "455/455 [==============================] - 0s 877us/step - loss: 0.0522 - accuracy: 0.9912\n",
      "Epoch 100/100\n",
      "455/455 [==============================] - 0s 843us/step - loss: 0.0502 - accuracy: 0.9912\n"
     ]
    },
    {
     "output_type": "execute_result",
     "data": {
      "text/plain": [
       "<tensorflow.python.keras.callbacks.History at 0x2781c91fa90>"
      ]
     },
     "metadata": {},
     "execution_count": 17
    }
   ],
   "source": [
    "model.fit(X_train, y_train, batch_size = 1, epochs = 100)"
   ]
  },
  {
   "cell_type": "code",
   "execution_count": 20,
   "metadata": {},
   "outputs": [],
   "source": [
    "from tensorflow.keras.models import load_model\n",
    "\n",
    "model.save('breast_cancer_model.h5') #Save trained ANN\n",
    "#classifier = load_model('breast_cancer_model.h5')  #Load trained ANN"
   ]
  },
  {
   "cell_type": "code",
   "execution_count": 21,
   "metadata": {},
   "outputs": [],
   "source": [
    "y_pred = model.predict(X_test)\n",
    "y_pred = [ 1 if y>=0.5 else 0 for y in y_pred ]"
   ]
  },
  {
   "cell_type": "code",
   "execution_count": 22,
   "metadata": {},
   "outputs": [
    {
     "output_type": "stream",
     "name": "stdout",
     "text": [
      "[[67  0]\n [ 3 44]]\nAccuracy: 97.36842105263158%\n"
     ]
    }
   ],
   "source": [
    "from sklearn.metrics import confusion_matrix\n",
    "cm = confusion_matrix(y_test, y_pred)\n",
    "print(cm)\n",
    "\n",
    "accuracy = (cm[0][0]+cm[1][1])/(cm[0][0]+cm[0][1]+cm[1][0]+cm[1][1])\n",
    "print(\"Accuracy: \"+ str(accuracy*100)+\"%\")"
   ]
  },
  {
   "cell_type": "code",
   "execution_count": 25,
   "metadata": {},
   "outputs": [
    {
     "output_type": "display_data",
     "data": {
      "text/plain": "<Figure size 432x288 with 2 Axes>",
      "image/svg+xml": "<?xml version=\"1.0\" encoding=\"utf-8\" standalone=\"no\"?>\r\n<!DOCTYPE svg PUBLIC \"-//W3C//DTD SVG 1.1//EN\"\r\n  \"http://www.w3.org/Graphics/SVG/1.1/DTD/svg11.dtd\">\r\n<!-- Created with matplotlib (https://matplotlib.org/) -->\r\n<svg height=\"248.518125pt\" version=\"1.1\" viewBox=\"0 0 346.255125 248.518125\" width=\"346.255125pt\" xmlns=\"http://www.w3.org/2000/svg\" xmlns:xlink=\"http://www.w3.org/1999/xlink\">\r\n <defs>\r\n  <style type=\"text/css\">\r\n*{stroke-linecap:butt;stroke-linejoin:round;}\r\n  </style>\r\n </defs>\r\n <g id=\"figure_1\">\r\n  <g id=\"patch_1\">\r\n   <path d=\"M -0 248.518125 \r\nL 346.255125 248.518125 \r\nL 346.255125 0 \r\nL -0 0 \r\nz\r\n\" style=\"fill:none;\"/>\r\n  </g>\r\n  <g id=\"axes_1\">\r\n   <g id=\"patch_2\">\r\n    <path d=\"M 23.878125 224.64 \r\nL 291.718125 224.64 \r\nL 291.718125 7.2 \r\nL 23.878125 7.2 \r\nz\r\n\" style=\"fill:#ffffff;\"/>\r\n   </g>\r\n   <g id=\"QuadMesh_1\">\r\n    <path clip-path=\"url(#p9d1f531a0e)\" d=\"M 23.878125 7.2 \r\nL 157.798125 7.2 \r\nL 157.798125 115.92 \r\nL 23.878125 115.92 \r\nL 23.878125 7.2 \r\n\" style=\"fill:#faebdd;\"/>\r\n    <path clip-path=\"url(#p9d1f531a0e)\" d=\"M 157.798125 7.2 \r\nL 291.718125 7.2 \r\nL 291.718125 115.92 \r\nL 157.798125 115.92 \r\nL 157.798125 7.2 \r\n\" style=\"fill:#03051a;\"/>\r\n    <path clip-path=\"url(#p9d1f531a0e)\" d=\"M 23.878125 115.92 \r\nL 157.798125 115.92 \r\nL 157.798125 224.64 \r\nL 23.878125 224.64 \r\nL 23.878125 115.92 \r\n\" style=\"fill:#110c24;\"/>\r\n    <path clip-path=\"url(#p9d1f531a0e)\" d=\"M 157.798125 115.92 \r\nL 291.718125 115.92 \r\nL 291.718125 224.64 \r\nL 157.798125 224.64 \r\nL 157.798125 115.92 \r\n\" style=\"fill:#f05c42;\"/>\r\n   </g>\r\n   <g id=\"matplotlib.axis_1\">\r\n    <g id=\"xtick_1\">\r\n     <g id=\"line2d_1\">\r\n      <defs>\r\n       <path d=\"M 0 0 \r\nL 0 3.5 \r\n\" id=\"m4f3ab4cbde\" style=\"stroke:#000000;stroke-width:0.8;\"/>\r\n      </defs>\r\n      <g>\r\n       <use style=\"stroke:#000000;stroke-width:0.8;\" x=\"90.838125\" xlink:href=\"#m4f3ab4cbde\" y=\"224.64\"/>\r\n      </g>\r\n     </g>\r\n     <g id=\"text_1\">\r\n      <!-- 0 -->\r\n      <defs>\r\n       <path d=\"M 31.78125 66.40625 \r\nQ 24.171875 66.40625 20.328125 58.90625 \r\nQ 16.5 51.421875 16.5 36.375 \r\nQ 16.5 21.390625 20.328125 13.890625 \r\nQ 24.171875 6.390625 31.78125 6.390625 \r\nQ 39.453125 6.390625 43.28125 13.890625 \r\nQ 47.125 21.390625 47.125 36.375 \r\nQ 47.125 51.421875 43.28125 58.90625 \r\nQ 39.453125 66.40625 31.78125 66.40625 \r\nz\r\nM 31.78125 74.21875 \r\nQ 44.046875 74.21875 50.515625 64.515625 \r\nQ 56.984375 54.828125 56.984375 36.375 \r\nQ 56.984375 17.96875 50.515625 8.265625 \r\nQ 44.046875 -1.421875 31.78125 -1.421875 \r\nQ 19.53125 -1.421875 13.0625 8.265625 \r\nQ 6.59375 17.96875 6.59375 36.375 \r\nQ 6.59375 54.828125 13.0625 64.515625 \r\nQ 19.53125 74.21875 31.78125 74.21875 \r\nz\r\n\" id=\"DejaVuSans-48\"/>\r\n      </defs>\r\n      <g transform=\"translate(87.656875 239.238437)scale(0.1 -0.1)\">\r\n       <use xlink:href=\"#DejaVuSans-48\"/>\r\n      </g>\r\n     </g>\r\n    </g>\r\n    <g id=\"xtick_2\">\r\n     <g id=\"line2d_2\">\r\n      <g>\r\n       <use style=\"stroke:#000000;stroke-width:0.8;\" x=\"224.758125\" xlink:href=\"#m4f3ab4cbde\" y=\"224.64\"/>\r\n      </g>\r\n     </g>\r\n     <g id=\"text_2\">\r\n      <!-- 1 -->\r\n      <defs>\r\n       <path d=\"M 12.40625 8.296875 \r\nL 28.515625 8.296875 \r\nL 28.515625 63.921875 \r\nL 10.984375 60.40625 \r\nL 10.984375 69.390625 \r\nL 28.421875 72.90625 \r\nL 38.28125 72.90625 \r\nL 38.28125 8.296875 \r\nL 54.390625 8.296875 \r\nL 54.390625 0 \r\nL 12.40625 0 \r\nz\r\n\" id=\"DejaVuSans-49\"/>\r\n      </defs>\r\n      <g transform=\"translate(221.576875 239.238437)scale(0.1 -0.1)\">\r\n       <use xlink:href=\"#DejaVuSans-49\"/>\r\n      </g>\r\n     </g>\r\n    </g>\r\n   </g>\r\n   <g id=\"matplotlib.axis_2\">\r\n    <g id=\"ytick_1\">\r\n     <g id=\"line2d_3\">\r\n      <defs>\r\n       <path d=\"M 0 0 \r\nL -3.5 0 \r\n\" id=\"m2cb9f76e2b\" style=\"stroke:#000000;stroke-width:0.8;\"/>\r\n      </defs>\r\n      <g>\r\n       <use style=\"stroke:#000000;stroke-width:0.8;\" x=\"23.878125\" xlink:href=\"#m2cb9f76e2b\" y=\"61.56\"/>\r\n      </g>\r\n     </g>\r\n     <g id=\"text_3\">\r\n      <!-- 0 -->\r\n      <g transform=\"translate(14.798438 64.123281)rotate(-90)scale(0.1 -0.1)\">\r\n       <use xlink:href=\"#DejaVuSans-48\"/>\r\n      </g>\r\n     </g>\r\n    </g>\r\n    <g id=\"ytick_2\">\r\n     <g id=\"line2d_4\">\r\n      <g>\r\n       <use style=\"stroke:#000000;stroke-width:0.8;\" x=\"23.878125\" xlink:href=\"#m2cb9f76e2b\" y=\"170.28\"/>\r\n      </g>\r\n     </g>\r\n     <g id=\"text_4\">\r\n      <!-- 1 -->\r\n      <g transform=\"translate(14.798438 172.843281)rotate(-90)scale(0.1 -0.1)\">\r\n       <use xlink:href=\"#DejaVuSans-49\"/>\r\n      </g>\r\n     </g>\r\n    </g>\r\n   </g>\r\n   <g id=\"text_5\">\r\n    <!-- 67 -->\r\n    <defs>\r\n     <path d=\"M 33.015625 40.375 \r\nQ 26.375 40.375 22.484375 35.828125 \r\nQ 18.609375 31.296875 18.609375 23.390625 \r\nQ 18.609375 15.53125 22.484375 10.953125 \r\nQ 26.375 6.390625 33.015625 6.390625 \r\nQ 39.65625 6.390625 43.53125 10.953125 \r\nQ 47.40625 15.53125 47.40625 23.390625 \r\nQ 47.40625 31.296875 43.53125 35.828125 \r\nQ 39.65625 40.375 33.015625 40.375 \r\nz\r\nM 52.59375 71.296875 \r\nL 52.59375 62.3125 \r\nQ 48.875 64.0625 45.09375 64.984375 \r\nQ 41.3125 65.921875 37.59375 65.921875 \r\nQ 27.828125 65.921875 22.671875 59.328125 \r\nQ 17.53125 52.734375 16.796875 39.40625 \r\nQ 19.671875 43.65625 24.015625 45.921875 \r\nQ 28.375 48.1875 33.59375 48.1875 \r\nQ 44.578125 48.1875 50.953125 41.515625 \r\nQ 57.328125 34.859375 57.328125 23.390625 \r\nQ 57.328125 12.15625 50.6875 5.359375 \r\nQ 44.046875 -1.421875 33.015625 -1.421875 \r\nQ 20.359375 -1.421875 13.671875 8.265625 \r\nQ 6.984375 17.96875 6.984375 36.375 \r\nQ 6.984375 53.65625 15.1875 63.9375 \r\nQ 23.390625 74.21875 37.203125 74.21875 \r\nQ 40.921875 74.21875 44.703125 73.484375 \r\nQ 48.484375 72.75 52.59375 71.296875 \r\nz\r\n\" id=\"DejaVuSans-54\"/>\r\n     <path d=\"M 8.203125 72.90625 \r\nL 55.078125 72.90625 \r\nL 55.078125 68.703125 \r\nL 28.609375 0 \r\nL 18.3125 0 \r\nL 43.21875 64.59375 \r\nL 8.203125 64.59375 \r\nz\r\n\" id=\"DejaVuSans-55\"/>\r\n    </defs>\r\n    <g style=\"fill:#262626;\" transform=\"translate(84.475625 64.319375)scale(0.1 -0.1)\">\r\n     <use xlink:href=\"#DejaVuSans-54\"/>\r\n     <use x=\"63.623047\" xlink:href=\"#DejaVuSans-55\"/>\r\n    </g>\r\n   </g>\r\n   <g id=\"text_6\">\r\n    <!-- 0 -->\r\n    <g style=\"fill:#ffffff;\" transform=\"translate(221.576875 64.319375)scale(0.1 -0.1)\">\r\n     <use xlink:href=\"#DejaVuSans-48\"/>\r\n    </g>\r\n   </g>\r\n   <g id=\"text_7\">\r\n    <!-- 3 -->\r\n    <defs>\r\n     <path d=\"M 40.578125 39.3125 \r\nQ 47.65625 37.796875 51.625 33 \r\nQ 55.609375 28.21875 55.609375 21.1875 \r\nQ 55.609375 10.40625 48.1875 4.484375 \r\nQ 40.765625 -1.421875 27.09375 -1.421875 \r\nQ 22.515625 -1.421875 17.65625 -0.515625 \r\nQ 12.796875 0.390625 7.625 2.203125 \r\nL 7.625 11.71875 \r\nQ 11.71875 9.328125 16.59375 8.109375 \r\nQ 21.484375 6.890625 26.8125 6.890625 \r\nQ 36.078125 6.890625 40.9375 10.546875 \r\nQ 45.796875 14.203125 45.796875 21.1875 \r\nQ 45.796875 27.640625 41.28125 31.265625 \r\nQ 36.765625 34.90625 28.71875 34.90625 \r\nL 20.21875 34.90625 \r\nL 20.21875 43.015625 \r\nL 29.109375 43.015625 \r\nQ 36.375 43.015625 40.234375 45.921875 \r\nQ 44.09375 48.828125 44.09375 54.296875 \r\nQ 44.09375 59.90625 40.109375 62.90625 \r\nQ 36.140625 65.921875 28.71875 65.921875 \r\nQ 24.65625 65.921875 20.015625 65.03125 \r\nQ 15.375 64.15625 9.8125 62.3125 \r\nL 9.8125 71.09375 \r\nQ 15.4375 72.65625 20.34375 73.4375 \r\nQ 25.25 74.21875 29.59375 74.21875 \r\nQ 40.828125 74.21875 47.359375 69.109375 \r\nQ 53.90625 64.015625 53.90625 55.328125 \r\nQ 53.90625 49.265625 50.4375 45.09375 \r\nQ 46.96875 40.921875 40.578125 39.3125 \r\nz\r\n\" id=\"DejaVuSans-51\"/>\r\n    </defs>\r\n    <g style=\"fill:#ffffff;\" transform=\"translate(87.656875 173.039375)scale(0.1 -0.1)\">\r\n     <use xlink:href=\"#DejaVuSans-51\"/>\r\n    </g>\r\n   </g>\r\n   <g id=\"text_8\">\r\n    <!-- 44 -->\r\n    <defs>\r\n     <path d=\"M 37.796875 64.3125 \r\nL 12.890625 25.390625 \r\nL 37.796875 25.390625 \r\nz\r\nM 35.203125 72.90625 \r\nL 47.609375 72.90625 \r\nL 47.609375 25.390625 \r\nL 58.015625 25.390625 \r\nL 58.015625 17.1875 \r\nL 47.609375 17.1875 \r\nL 47.609375 0 \r\nL 37.796875 0 \r\nL 37.796875 17.1875 \r\nL 4.890625 17.1875 \r\nL 4.890625 26.703125 \r\nz\r\n\" id=\"DejaVuSans-52\"/>\r\n    </defs>\r\n    <g style=\"fill:#ffffff;\" transform=\"translate(218.395625 173.039375)scale(0.1 -0.1)\">\r\n     <use xlink:href=\"#DejaVuSans-52\"/>\r\n     <use x=\"63.623047\" xlink:href=\"#DejaVuSans-52\"/>\r\n    </g>\r\n   </g>\r\n  </g>\r\n  <g id=\"axes_2\">\r\n   <g id=\"patch_3\">\r\n    <path clip-path=\"url(#pa77de995c0)\" d=\"M 308.458125 224.64 \r\nL 308.458125 223.790625 \r\nL 308.458125 8.049375 \r\nL 308.458125 7.2 \r\nL 319.330125 7.2 \r\nL 319.330125 8.049375 \r\nL 319.330125 223.790625 \r\nL 319.330125 224.64 \r\nz\r\n\" style=\"fill:#ffffff;stroke:#ffffff;stroke-linejoin:miter;stroke-width:0.01;\"/>\r\n   </g>\r\n   <image height=\"217\" id=\"image2d25784fab\" transform=\"scale(1 -1)translate(0 -217)\" width=\"11\" x=\"308\" xlink:href=\"data:image/png;base64,\r\niVBORw0KGgoAAAANSUhEUgAAAAsAAADZCAYAAAD2WsoCAAAABHNCSVQICAgIfAhkiAAAAV9JREFUaIHVmtsNAzEIwHjdEt1/zl5XwB+WaL4RMoakuag5z+eN5ZrM3MbS4ADBXSVlLq3AIhgoM7LhYRzx3OnZODF1qECxKTcym+3WbGgYE2g29sucDa3dEGO/zJOfBI82SMyG125vW61D6fB76qANgCGq05iRjSPMCIPtbpKZFbj+PPhbGySY2PAw5gYGazdhHoRxxIaGMe8+tbgH6wYGspFhMcMCAUYzZhIMRIvqEpwF0yS4SDDCgJnXsTFdXymzWCA47BhzNbABmQEGUifaGG02ELOmrsBVhmGENxteMLj3kMceqo5lBjdzlhncCyYIhsfMMMDPJsxMnixQZhhM3us0G0GeDT0bSWxEt4SBmuJ5ztEKFNtNMqM9CD55VRukgx4GssHOOtRBSx3c3RqGVyDK3Gj4bzCzdqN51jZs3pg60QYp8MbwZz9SZnP4iWfSbvQviysFsnZrZ51V4A9keCojHT7iJgAAAABJRU5ErkJggg==\" y=\"-7\"/>\r\n   <g id=\"matplotlib.axis_3\"/>\r\n   <g id=\"matplotlib.axis_4\">\r\n    <g id=\"ytick_3\">\r\n     <g id=\"line2d_5\">\r\n      <defs>\r\n       <path d=\"M 0 0 \r\nL 3.5 0 \r\n\" id=\"m29a0c69b37\" style=\"stroke:#000000;stroke-width:0.8;\"/>\r\n      </defs>\r\n      <g>\r\n       <use style=\"stroke:#000000;stroke-width:0.8;\" x=\"319.330125\" xlink:href=\"#m29a0c69b37\" y=\"224.64\"/>\r\n      </g>\r\n     </g>\r\n     <g id=\"text_9\">\r\n      <!-- 0 -->\r\n      <g transform=\"translate(326.330125 228.439219)scale(0.1 -0.1)\">\r\n       <use xlink:href=\"#DejaVuSans-48\"/>\r\n      </g>\r\n     </g>\r\n    </g>\r\n    <g id=\"ytick_4\">\r\n     <g id=\"line2d_6\">\r\n      <g>\r\n       <use style=\"stroke:#000000;stroke-width:0.8;\" x=\"319.330125\" xlink:href=\"#m29a0c69b37\" y=\"192.186269\"/>\r\n      </g>\r\n     </g>\r\n     <g id=\"text_10\">\r\n      <!-- 10 -->\r\n      <g transform=\"translate(326.330125 195.985487)scale(0.1 -0.1)\">\r\n       <use xlink:href=\"#DejaVuSans-49\"/>\r\n       <use x=\"63.623047\" xlink:href=\"#DejaVuSans-48\"/>\r\n      </g>\r\n     </g>\r\n    </g>\r\n    <g id=\"ytick_5\">\r\n     <g id=\"line2d_7\">\r\n      <g>\r\n       <use style=\"stroke:#000000;stroke-width:0.8;\" x=\"319.330125\" xlink:href=\"#m29a0c69b37\" y=\"159.732537\"/>\r\n      </g>\r\n     </g>\r\n     <g id=\"text_11\">\r\n      <!-- 20 -->\r\n      <defs>\r\n       <path d=\"M 19.1875 8.296875 \r\nL 53.609375 8.296875 \r\nL 53.609375 0 \r\nL 7.328125 0 \r\nL 7.328125 8.296875 \r\nQ 12.9375 14.109375 22.625 23.890625 \r\nQ 32.328125 33.6875 34.8125 36.53125 \r\nQ 39.546875 41.84375 41.421875 45.53125 \r\nQ 43.3125 49.21875 43.3125 52.78125 \r\nQ 43.3125 58.59375 39.234375 62.25 \r\nQ 35.15625 65.921875 28.609375 65.921875 \r\nQ 23.96875 65.921875 18.8125 64.3125 \r\nQ 13.671875 62.703125 7.8125 59.421875 \r\nL 7.8125 69.390625 \r\nQ 13.765625 71.78125 18.9375 73 \r\nQ 24.125 74.21875 28.421875 74.21875 \r\nQ 39.75 74.21875 46.484375 68.546875 \r\nQ 53.21875 62.890625 53.21875 53.421875 \r\nQ 53.21875 48.921875 51.53125 44.890625 \r\nQ 49.859375 40.875 45.40625 35.40625 \r\nQ 44.1875 33.984375 37.640625 27.21875 \r\nQ 31.109375 20.453125 19.1875 8.296875 \r\nz\r\n\" id=\"DejaVuSans-50\"/>\r\n      </defs>\r\n      <g transform=\"translate(326.330125 163.531756)scale(0.1 -0.1)\">\r\n       <use xlink:href=\"#DejaVuSans-50\"/>\r\n       <use x=\"63.623047\" xlink:href=\"#DejaVuSans-48\"/>\r\n      </g>\r\n     </g>\r\n    </g>\r\n    <g id=\"ytick_6\">\r\n     <g id=\"line2d_8\">\r\n      <g>\r\n       <use style=\"stroke:#000000;stroke-width:0.8;\" x=\"319.330125\" xlink:href=\"#m29a0c69b37\" y=\"127.278806\"/>\r\n      </g>\r\n     </g>\r\n     <g id=\"text_12\">\r\n      <!-- 30 -->\r\n      <g transform=\"translate(326.330125 131.078025)scale(0.1 -0.1)\">\r\n       <use xlink:href=\"#DejaVuSans-51\"/>\r\n       <use x=\"63.623047\" xlink:href=\"#DejaVuSans-48\"/>\r\n      </g>\r\n     </g>\r\n    </g>\r\n    <g id=\"ytick_7\">\r\n     <g id=\"line2d_9\">\r\n      <g>\r\n       <use style=\"stroke:#000000;stroke-width:0.8;\" x=\"319.330125\" xlink:href=\"#m29a0c69b37\" y=\"94.825075\"/>\r\n      </g>\r\n     </g>\r\n     <g id=\"text_13\">\r\n      <!-- 40 -->\r\n      <g transform=\"translate(326.330125 98.624293)scale(0.1 -0.1)\">\r\n       <use xlink:href=\"#DejaVuSans-52\"/>\r\n       <use x=\"63.623047\" xlink:href=\"#DejaVuSans-48\"/>\r\n      </g>\r\n     </g>\r\n    </g>\r\n    <g id=\"ytick_8\">\r\n     <g id=\"line2d_10\">\r\n      <g>\r\n       <use style=\"stroke:#000000;stroke-width:0.8;\" x=\"319.330125\" xlink:href=\"#m29a0c69b37\" y=\"62.371343\"/>\r\n      </g>\r\n     </g>\r\n     <g id=\"text_14\">\r\n      <!-- 50 -->\r\n      <defs>\r\n       <path d=\"M 10.796875 72.90625 \r\nL 49.515625 72.90625 \r\nL 49.515625 64.59375 \r\nL 19.828125 64.59375 \r\nL 19.828125 46.734375 \r\nQ 21.96875 47.46875 24.109375 47.828125 \r\nQ 26.265625 48.1875 28.421875 48.1875 \r\nQ 40.625 48.1875 47.75 41.5 \r\nQ 54.890625 34.8125 54.890625 23.390625 \r\nQ 54.890625 11.625 47.5625 5.09375 \r\nQ 40.234375 -1.421875 26.90625 -1.421875 \r\nQ 22.3125 -1.421875 17.546875 -0.640625 \r\nQ 12.796875 0.140625 7.71875 1.703125 \r\nL 7.71875 11.625 \r\nQ 12.109375 9.234375 16.796875 8.0625 \r\nQ 21.484375 6.890625 26.703125 6.890625 \r\nQ 35.15625 6.890625 40.078125 11.328125 \r\nQ 45.015625 15.765625 45.015625 23.390625 \r\nQ 45.015625 31 40.078125 35.4375 \r\nQ 35.15625 39.890625 26.703125 39.890625 \r\nQ 22.75 39.890625 18.8125 39.015625 \r\nQ 14.890625 38.140625 10.796875 36.28125 \r\nz\r\n\" id=\"DejaVuSans-53\"/>\r\n      </defs>\r\n      <g transform=\"translate(326.330125 66.170562)scale(0.1 -0.1)\">\r\n       <use xlink:href=\"#DejaVuSans-53\"/>\r\n       <use x=\"63.623047\" xlink:href=\"#DejaVuSans-48\"/>\r\n      </g>\r\n     </g>\r\n    </g>\r\n    <g id=\"ytick_9\">\r\n     <g id=\"line2d_11\">\r\n      <g>\r\n       <use style=\"stroke:#000000;stroke-width:0.8;\" x=\"319.330125\" xlink:href=\"#m29a0c69b37\" y=\"29.917612\"/>\r\n      </g>\r\n     </g>\r\n     <g id=\"text_15\">\r\n      <!-- 60 -->\r\n      <g transform=\"translate(326.330125 33.716831)scale(0.1 -0.1)\">\r\n       <use xlink:href=\"#DejaVuSans-54\"/>\r\n       <use x=\"63.623047\" xlink:href=\"#DejaVuSans-48\"/>\r\n      </g>\r\n     </g>\r\n    </g>\r\n   </g>\r\n   <g id=\"patch_4\">\r\n    <path d=\"M 308.458125 224.64 \r\nL 308.458125 223.790625 \r\nL 308.458125 8.049375 \r\nL 308.458125 7.2 \r\nL 319.330125 7.2 \r\nL 319.330125 8.049375 \r\nL 319.330125 223.790625 \r\nL 319.330125 224.64 \r\nz\r\n\" style=\"fill:none;\"/>\r\n   </g>\r\n  </g>\r\n </g>\r\n <defs>\r\n  <clipPath id=\"p9d1f531a0e\">\r\n   <rect height=\"217.44\" width=\"267.84\" x=\"23.878125\" y=\"7.2\"/>\r\n  </clipPath>\r\n  <clipPath id=\"pa77de995c0\">\r\n   <rect height=\"217.44\" width=\"10.872\" x=\"308.458125\" y=\"7.2\"/>\r\n  </clipPath>\r\n </defs>\r\n</svg>\r\n",
      "image/png": "[encoded data removed]"
     },
     "metadata": {
      "needs_background": "light"
     }
    }
   ],
   "source": [
    "import seaborn as sns\n",
    "sns.heatmap(cm,annot=True)\n",
    "plt.savefig('h.png')"
   ]
  },
  {
   "cell_type": "code",
   "execution_count": null,
   "metadata": {},
   "outputs": [],
   "source": []
  }
 ]
}